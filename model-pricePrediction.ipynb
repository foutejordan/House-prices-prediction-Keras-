{
  "nbformat": 4,
  "nbformat_minor": 0,
  "metadata": {
    "colab": {
      "provenance": []
    },
    "kernelspec": {
      "name": "python3",
      "display_name": "Python 3"
    },
    "language_info": {
      "name": "python"
    }
  },
  "cells": [
    {
      "cell_type": "code",
      "execution_count": null,
      "metadata": {
        "id": "g33l7mr2F9by"
      },
      "outputs": [],
      "source": [
        "from keras.datasets import boston_housing"
      ]
    },
    {
      "cell_type": "code",
      "source": [
        "(train_data, train_targets), (test_data, test_target) = boston_housing.load_data()"
      ],
      "metadata": {
        "colab": {
          "base_uri": "https://localhost:8080/"
        },
        "id": "Pd-rZTONGpt9",
        "outputId": "7f435dbc-06de-469a-aa56-2803deb4d773"
      },
      "execution_count": null,
      "outputs": [
        {
          "output_type": "stream",
          "name": "stdout",
          "text": [
            "Downloading data from https://storage.googleapis.com/tensorflow/tf-keras-datasets/boston_housing.npz\n",
            "57026/57026 [==============================] - 0s 0us/step\n"
          ]
        }
      ]
    },
    {
      "cell_type": "code",
      "source": [
        "train_data.shape"
      ],
      "metadata": {
        "colab": {
          "base_uri": "https://localhost:8080/"
        },
        "id": "-GTiyOLXG2wi",
        "outputId": "0f3495a4-7224-4fb0-a3dc-2e9dc635e168"
      },
      "execution_count": null,
      "outputs": [
        {
          "output_type": "execute_result",
          "data": {
            "text/plain": [
              "(404, 13)"
            ]
          },
          "metadata": {},
          "execution_count": 4
        }
      ]
    },
    {
      "cell_type": "code",
      "source": [
        "#normalisation des donnees\n",
        "mean = train_data.mean(axis=0)\n",
        "train_data -= mean\n",
        "\n",
        "std = train_data.std(axis=0)\n",
        "train_data /= std\n",
        "\n",
        "test_data -= mean\n",
        "test_data /= std\n"
      ],
      "metadata": {
        "id": "FYfrEFfzG85P"
      },
      "execution_count": null,
      "outputs": []
    },
    {
      "cell_type": "code",
      "source": [
        "#definition du model\n",
        "from keras import models\n",
        "from keras import layers\n",
        "\n",
        "def build_model():\n",
        "  model = models.Sequential()\n",
        "  model.add(layers.Dense(64, activation='relu', input_shape=(train_data.shape[1],)))\n",
        "  model.add(layers.Dense(64, activation='relu'))\n",
        "  model.add(layers.Dense(1))\n",
        "  #mae(mean absolute error), valeur absolue de la differencence entre les predictions et les etiquettes\n",
        "  model.compile(optimizer='rmsprop', loss='mse', metrics=['mae'])\n",
        "\n",
        "  return model"
      ],
      "metadata": {
        "id": "YHbo5jsZHt9V"
      },
      "execution_count": null,
      "outputs": []
    },
    {
      "cell_type": "code",
      "source": [
        "# validation croisee a K-fold\n",
        "#lorsqu'on a peu de points de donnees, l'ensemble de validation devient tres petit\n",
        "\n",
        "import numpy as np\n",
        "\n",
        "k = 4\n",
        "#on divise l'ensemble de donnees en k partitions\n",
        "# on met deux barres pour convertir en int directement\n",
        "num_val_samples = len(train_data) // k\n",
        "\n",
        "num_epochs = 500\n",
        "all_mae_histories = []\n",
        "print(num_val_samples)\n",
        "\n",
        "#pour chaque partition\n",
        "for i in range(k):\n",
        "  print(\"processing fold #,\", i)\n",
        "  # preparation des donnes de validation provenant de la partition K\n",
        "  val_data = train_data[i * num_val_samples: (i+1)* num_val_samples]\n",
        "  val_target = train_targets[i * num_val_samples: (i+1)* num_val_samples]\n",
        " \n",
        "  #preparation des donnees d'apprentissage, provenant de toutes les partitions sauf celle de K\n",
        "\n",
        "  partial_train_data = np.concatenate([train_data[:i*num_val_samples], train_data[(i+1)*num_val_samples:]], axis=0)\n",
        "  partial_train_targets = np.concatenate([train_targets[:i*num_val_samples], train_targets[(i+1)*num_val_samples:]], axis=0)\n",
        "\n",
        "  #construction du modele deja compile\n",
        "  model = build_model()\n",
        "\n",
        "  #entraienement du model en mode silencieu (verbose = 0)\n",
        "\n",
        "  history = model.fit(partial_train_data, partial_train_targets,\n",
        "                      validation_data=(val_data, val_target),\n",
        "                      epochs=num_epochs, batch_size=1, verbose=0)\n",
        "\n",
        "  mae_history = history.history['val_mae']\n",
        "  history.history.keys()\n",
        "  #evaluation du  model sur les donnees de validation\n",
        "  #val_mse, val_mae = model.evaluate(val_data, val_target, verbose=0)\n",
        "\n",
        "  all_mae_histories.append(mae_history)\n",
        "\n",
        "  all_mae_histories\n"
      ],
      "metadata": {
        "colab": {
          "base_uri": "https://localhost:8080/"
        },
        "id": "aCCFXoFmJTRs",
        "outputId": "db952b72-a00a-4f45-ef4e-b0241739871a"
      },
      "execution_count": null,
      "outputs": [
        {
          "output_type": "stream",
          "name": "stdout",
          "text": [
            "101\n",
            "processing fold #, 0\n",
            "processing fold #, 1\n",
            "processing fold #, 2\n",
            "processing fold #, 3\n"
          ]
        }
      ]
    },
    {
      "cell_type": "code",
      "source": [
        "len(all_mae_histories)"
      ],
      "metadata": {
        "colab": {
          "base_uri": "https://localhost:8080/"
        },
        "id": "fsXqLjZA-u9W",
        "outputId": "0f3ad4f0-1c60-4a8b-a12e-975187a6bf21"
      },
      "execution_count": null,
      "outputs": [
        {
          "output_type": "execute_result",
          "data": {
            "text/plain": [
              "4"
            ]
          },
          "metadata": {},
          "execution_count": 11
        }
      ]
    },
    {
      "cell_type": "code",
      "source": [
        "#calcul de la moyenne des scores MAE par epoque pour chaque fold\n",
        "average_mae_history = [np.mean([x[i] for x in all_mae_histories]) for i in range(num_epochs)]\n",
        "len(average_mae_history)"
      ],
      "metadata": {
        "colab": {
          "base_uri": "https://localhost:8080/"
        },
        "id": "JsbhLmLY5azm",
        "outputId": "cb9e8e51-e41d-4b93-906e-69e3554ce37d"
      },
      "execution_count": null,
      "outputs": [
        {
          "output_type": "execute_result",
          "data": {
            "text/plain": [
              "500"
            ]
          },
          "metadata": {},
          "execution_count": 12
        }
      ]
    },
    {
      "cell_type": "code",
      "source": [
        "#tracee des scores de validation\n",
        "import matplotlib.pyplot as plt \n",
        "\n",
        "plt.plot(range(1, len(average_mae_history) + 1), average_mae_history)\n",
        "plt.xlabel(\"nombre epoches\")\n",
        "plt.ylabel(\"Erreur absolute moyenne\")\n",
        "plt.show()"
      ],
      "metadata": {
        "colab": {
          "base_uri": "https://localhost:8080/",
          "height": 279
        },
        "id": "3Y7yqyuI7dF-",
        "outputId": "1d998344-cff8-4257-808d-b4e37536285e"
      },
      "execution_count": null,
      "outputs": [
        {
          "output_type": "display_data",
          "data": {
            "text/plain": [
              "<Figure size 432x288 with 1 Axes>"
            ],
            "image/png": "[encoded data removed]"
          },
          "metadata": {
            "needs_background": "light"
          }
        }
      ]
    },
    {
      "cell_type": "code",
      "source": [
        "#traitement a effectuer car graphique difficile a interpreter\n",
        "#enlever les 10 premiers point de donnees exprimees a une echelle de valeurs differentes\n",
        "#remplacement de chaque point par une moyenne exponentielle des points precedents pour obtenir une courbe lisse\n",
        "\n",
        "def smooth_curve(points, factor = 0.9):\n",
        "  smoothed_points  = []\n",
        "  for point in points:\n",
        "    if smoothed_points:\n",
        "      previous = smoothed_points[-1]\n",
        "      smoothed_points.append(previous * factor + point * (1 - factor))\n",
        "    else:\n",
        "      smoothed_points.append(point)\n",
        "  return smoothed_points\n",
        "\n",
        "smooth_mae_history = smooth_curve(average_mae_history[10:])\n",
        "\n",
        "plt.plot(range(1, len(smooth_mae_history) + 1), smooth_mae_history)\n",
        "plt.xlabel(\"nombre epoches\")\n",
        "plt.ylabel(\"Erreur absolute moyenne\")\n",
        "plt.show()"
      ],
      "metadata": {
        "colab": {
          "base_uri": "https://localhost:8080/",
          "height": 279
        },
        "id": "AtgAAEyV909R",
        "outputId": "58bffe88-d9a8-485c-e38a-c198cdb21dbe"
      },
      "execution_count": null,
      "outputs": [
        {
          "output_type": "display_data",
          "data": {
            "text/plain": [
              "<Figure size 432x288 with 1 Axes>"
            ],
            "image/png": "[encoded data removed]"
          },
          "metadata": {
            "needs_background": "light"
          }
        }
      ]
    },
    {
      "cell_type": "code",
      "source": [
        "#entrainement du model final\n",
        "\n",
        "model = build_model()\n",
        "\n",
        "model.fit(train_data, train_targets, epochs=80, batch_size=16, verbose=0)\n",
        "\n",
        "test_mse_score, test_mae_score = model.evaluate(test_data, test_target)\n",
        "\n",
        "test_mae_score"
      ],
      "metadata": {
        "colab": {
          "base_uri": "https://localhost:8080/"
        },
        "id": "plBAT50aPdgd",
        "outputId": "c7905269-cfe5-4bff-9b0a-8363942c315f"
      },
      "execution_count": null,
      "outputs": [
        {
          "output_type": "stream",
          "name": "stdout",
          "text": [
            "4/4 [==============================] - 0s 4ms/step - loss: 19.0863 - mae: 2.6872\n"
          ]
        },
        {
          "output_type": "execute_result",
          "data": {
            "text/plain": [
              "2.687244415283203"
            ]
          },
          "metadata": {},
          "execution_count": 15
        }
      ]
    }
  ]
}